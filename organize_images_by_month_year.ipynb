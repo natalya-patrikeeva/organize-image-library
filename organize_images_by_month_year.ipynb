{
 "cells": [
  {
   "cell_type": "code",
   "execution_count": null,
   "id": "f8812102",
   "metadata": {},
   "outputs": [],
   "source": [
    "# read in images metadata and organize images based on year-date"
   ]
  },
  {
   "cell_type": "code",
   "execution_count": null,
   "id": "c9f9b9dc",
   "metadata": {},
   "outputs": [],
   "source": [
    "import glob, shutil\n",
    "from PIL import Image\n",
    "from PIL.ExifTags import TAGS\n",
    "from datetime import datetime\n",
    "import os\n",
    "from os import makedirs\n",
    "from os.path import exists\n",
    "import subprocess"
   ]
  },
  {
   "cell_type": "code",
   "execution_count": null,
   "id": "56efdede",
   "metadata": {},
   "outputs": [],
   "source": [
    "img_list = glob.glob('*.jpeg')\n",
    "mov_list = glob.glob('*.mov')"
   ]
  },
  {
   "cell_type": "code",
   "execution_count": null,
   "id": "ab18fd2a",
   "metadata": {},
   "outputs": [],
   "source": [
    "len(img_list)"
   ]
  },
  {
   "cell_type": "code",
   "execution_count": null,
   "id": "86a9bd54",
   "metadata": {},
   "outputs": [],
   "source": [
    "# loop over all exported images\n",
    "for img in img_list:\n",
    "    \n",
    "    # read the image data using PIL\n",
    "    image = Image.open(img)\n",
    "    # extract EXIF data\n",
    "    exifdata = image.getexif()\n",
    "    \n",
    "    # iterating over all EXIF data fields\n",
    "    for tag_id in exifdata:\n",
    "        \n",
    "        # get the tag name, instead of human unreadable tag id\n",
    "        tag = TAGS.get(tag_id, tag_id)\n",
    "        data = exifdata.get(tag_id)\n",
    "        \n",
    "        # decode bytes \n",
    "        if isinstance(data, bytes):\n",
    "            data = data.decode()\n",
    "            \n",
    "        # we only care about the date tag\n",
    "        if tag == 'DateTime':\n",
    "            date = data\n",
    "\n",
    "            year = date.split(' ')[0][:4]\n",
    "            month = date.split(' ')[0][5:7]\n",
    "\n",
    "            # create a new directory for each MMYYYY if it does not exist\n",
    "            # then save the image into that dir\n",
    "            outdir = month + year \n",
    "            makedirs(outdir, exist_ok = True)\n",
    "            \n",
    "            # move images with that year-month to that folder\n",
    "            # check if image already exists in that folder\n",
    "            \n",
    "            if exists(outdir + '/' + img):\n",
    "            # delete if it does\n",
    "                os.remove(img)\n",
    "            # move if it does not\n",
    "            else:\n",
    "                shutil.move(img, outdir)"
   ]
  },
  {
   "cell_type": "code",
   "execution_count": null,
   "id": "4fccf3eb",
   "metadata": {},
   "outputs": [],
   "source": [
    "# loop over all exported videos\n",
    "for v in mov_list:\n",
    "    # read the mov metadata\n",
    "    metadata = subprocess.getoutput(\"ffmpeg -i %s\"  % (v))\n",
    "    \n",
    "    # get the date from metadata\n",
    "    date = metadata[metadata.find('com.apple.quicktime.creationdate:'):].split(\"\\n\")[0].split(\": \")[1]\n",
    "    \n",
    "    # get the year and month of the video\n",
    "    year = date[:4]\n",
    "    month = date[5:7]\n",
    "\n",
    "    # create a new directory for each MMYYYY if it does not exist\n",
    "    # then save the mov into that dir\n",
    "    outdir = month + year \n",
    "    makedirs(outdir, exist_ok = True)\n",
    "    \n",
    "    # check if mov already exists in that folder\n",
    "    if exists(outdir + '/' + v):\n",
    "        # delete if it does\n",
    "        os.remove(v)\n",
    "    else:\n",
    "        # move mov with that year-month to that folder\n",
    "        shutil.move(v, outdir)"
   ]
  }
 ],
 "metadata": {
  "kernelspec": {
   "display_name": "Python 3",
   "language": "python",
   "name": "python3"
  },
  "language_info": {
   "codemirror_mode": {
    "name": "ipython",
    "version": 3
   },
   "file_extension": ".py",
   "mimetype": "text/x-python",
   "name": "python",
   "nbconvert_exporter": "python",
   "pygments_lexer": "ipython3",
   "version": "3.8.8"
  }
 },
 "nbformat": 4,
 "nbformat_minor": 5
}
