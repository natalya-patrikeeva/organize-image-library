{
 "cells": [
  {
   "cell_type": "code",
   "execution_count": null,
   "metadata": {},
   "outputs": [],
   "source": [
    "import os, shutil, glob, subprocess"
   ]
  },
  {
   "cell_type": "code",
   "execution_count": null,
   "metadata": {},
   "outputs": [],
   "source": [
    "def copy_files_to_single_directory(src, dest):\n",
    "    for root, dirs, files in os.walk(src):\n",
    "        for file in files:\n",
    "            src_file = os.path.join(root, file)\n",
    "            dest_file = os.path.join(dest, file)\n",
    "            \n",
    "            # Check if a file with the same name already exists in the destination\n",
    "            counter = 1\n",
    "            base, extension = os.path.splitext(dest_file)\n",
    "            while os.path.exists(dest_file):\n",
    "                dest_file = f\"{base}-{counter}{extension}\"\n",
    "                counter += 1\n",
    "            \n",
    "            shutil.copy2(src_file, dest_file)"
   ]
  },
  {
   "cell_type": "code",
   "execution_count": null,
   "metadata": {},
   "outputs": [],
   "source": [
    "%%time\n",
    "source_directory = '/Users/nrapstin/Downloads/Fall_2023_photo_dump'\n",
    "destination_directory = '/Users/nrapstin/Downloads/backup-photos'\n",
    "copy_files_to_single_directory(source_directory, destination_directory)"
   ]
  },
  {
   "cell_type": "code",
   "execution_count": null,
   "metadata": {},
   "outputs": [],
   "source": [
    "def get_files_with_extensions(directory, extensions):\n",
    "    files = []\n",
    "    for ext in extensions:\n",
    "        files.extend(glob.glob(os.path.join(directory, f'*{ext}')))\n",
    "        files.extend(glob.glob(os.path.join(directory, f'*{ext.upper()}')))\n",
    "    return files"
   ]
  },
  {
   "cell_type": "code",
   "execution_count": null,
   "metadata": {},
   "outputs": [],
   "source": [
    "from PIL import Image\n",
    "from PIL.ExifTags import TAGS\n",
    "from datetime import datetime"
   ]
  },
  {
   "cell_type": "code",
   "execution_count": null,
   "metadata": {},
   "outputs": [],
   "source": [
    "directory = '/Users/nrapstin/Downloads/backup-photos'"
   ]
  },
  {
   "cell_type": "code",
   "execution_count": null,
   "metadata": {},
   "outputs": [],
   "source": [
    "img_extensions = [\".png\", \".jpg\", \".jpeg\", \".gif\"]  # List of extensions"
   ]
  },
  {
   "cell_type": "code",
   "execution_count": null,
   "metadata": {},
   "outputs": [],
   "source": [
    "img_list = get_files_with_extensions(directory, img_extensions)"
   ]
  },
  {
   "cell_type": "code",
   "execution_count": null,
   "metadata": {},
   "outputs": [],
   "source": [
    "len(img_list)"
   ]
  },
  {
   "cell_type": "code",
   "execution_count": null,
   "metadata": {},
   "outputs": [],
   "source": [
    "mov_extensions = [\".mov\", \".mp4\"]  # List of extensions"
   ]
  },
  {
   "cell_type": "code",
   "execution_count": null,
   "metadata": {},
   "outputs": [],
   "source": [
    "mov_list = get_files_with_extensions(directory, mov_extensions)"
   ]
  },
  {
   "cell_type": "code",
   "execution_count": null,
   "metadata": {},
   "outputs": [],
   "source": [
    "len(mov_list)"
   ]
  },
  {
   "cell_type": "code",
   "execution_count": null,
   "metadata": {},
   "outputs": [],
   "source": [
    "def get_next_available_filename(filepath):\n",
    "    directory, filename = os.path.split(filepath)\n",
    "    file_base, extension = os.path.splitext(filename)\n",
    "\n",
    "    counter = 1\n",
    "    new_filename = f\"{file_base}-{counter}{extension}\"\n",
    "    new_filepath = os.path.join(directory, new_filename)\n",
    "\n",
    "    while os.path.exists(new_filepath):\n",
    "        counter += 1\n",
    "        new_filename = f\"{file_base}-{counter}{extension}\"\n",
    "        new_filepath = os.path.join(directory, new_filename)\n",
    "\n",
    "    return new_filepath"
   ]
  },
  {
   "cell_type": "code",
   "execution_count": null,
   "metadata": {},
   "outputs": [],
   "source": [
    "img_with_meta = {}\n",
    "\n",
    "# loop over all exported images\n",
    "for i, img in enumerate(img_list):\n",
    "    \n",
    "    # read the image data using PIL\n",
    "    image = Image.open(img)\n",
    "    # extract EXIF data\n",
    "    exifdata = image.getexif()\n",
    "    \n",
    "    if exifdata:\n",
    "        # iterating over all EXIF data fields\n",
    "        for tag_id in exifdata:\n",
    "\n",
    "            # get the tag name, instead of human unreadable tag id\n",
    "            tag = TAGS.get(tag_id, tag_id)\n",
    "            data = exifdata.get(tag_id)\n",
    "\n",
    "            # decode bytes \n",
    "            if isinstance(data, bytes):\n",
    "                data = data.decode()\n",
    "            \n",
    "            \n",
    "            # we only care about the date tag\n",
    "            if tag == 'DateTime':\n",
    "                date_str = data\n",
    "                \n",
    "                # Parse the string into a datetime object\n",
    "                dt = datetime.strptime(date_str, '%Y:%m:%d %H:%M:%S')\n",
    "                img_with_meta[i] = { 'img_path' : img, 'dt' : dt}\n",
    "                \n"
   ]
  },
  {
   "cell_type": "code",
   "execution_count": null,
   "metadata": {},
   "outputs": [],
   "source": [
    "len(img_with_meta)"
   ]
  },
  {
   "cell_type": "code",
   "execution_count": null,
   "metadata": {},
   "outputs": [],
   "source": [
    "for key, val in img_with_meta.items():\n",
    "#     print(key, val)\n",
    "    # get date\n",
    "    dt = val['dt']\n",
    "    \n",
    "    # Create new directory name based on year-month\n",
    "    year_folder = os.path.join(directory, str(dt.year))\n",
    "    month_folder = os.path.join(year_folder, f\"{dt.year}-{dt.month:02d}\")\n",
    "\n",
    "    # Create year and year-month directories if they don't exist\n",
    "    os.makedirs(month_folder, exist_ok=True)\n",
    "    \n",
    "    # check if file name corresponds to the date\n",
    "    img_path_original = val['img_path']\n",
    "    \n",
    "    file = img_path_original.split('/')[-1] \n",
    "    file, extension = os.path.splitext(file)\n",
    "    yearmonth = file.split('-')[0]\n",
    "    year = yearmonth[:4]\n",
    "    month = yearmonth[4:6]\n",
    "    year_dt = dt.year\n",
    "    month_dt = dt.month\n",
    "    \n",
    "#     if str(year) != str(year_dt) or str(month) != f\"{month_dt:02d}\":\n",
    "#         # if year or month do not match\n",
    "#         print(key, val)\n",
    "#         print('date DOES NOT match')\n",
    "        \n",
    "    # Create new filename with year, month, day, hour, minute, and second\n",
    "    base_filename = dt.strftime('%Y%m%d-%H%M%S')\n",
    "    new_filename = base_filename + extension\n",
    "    new_file_path = os.path.join(month_folder, new_filename)\n",
    "\n",
    "    # Check if file exists, and if so, append a digit starting at 1\n",
    "    if os.path.exists(new_file_path):\n",
    "        # pick new name\n",
    "        new_filename = get_next_available_filename(new_file_path)\n",
    "        new_file_path = os.path.join(month_folder, new_filename)\n",
    "\n",
    "    print(f\"dt: {dt}\")\n",
    "    print(f\"img_path_original: {img_path_original}\")\n",
    "    print(f\"new_file_path: {new_file_path}\")\n",
    "\n",
    "\n",
    "    # Move the file to the new location\n",
    "    shutil.move(img_path_original, new_file_path)\n"
   ]
  },
  {
   "cell_type": "code",
   "execution_count": null,
   "metadata": {},
   "outputs": [],
   "source": [
    "# make a new list without metadata\n",
    "img_list = get_files_with_extensions(directory, img_extensions)"
   ]
  },
  {
   "cell_type": "code",
   "execution_count": null,
   "metadata": {},
   "outputs": [],
   "source": [
    "len(img_list)    "
   ]
  },
  {
   "cell_type": "code",
   "execution_count": null,
   "metadata": {},
   "outputs": [],
   "source": [
    "def get_creation_date(file_path):\n",
    "    date_format = \"%Y-%m-%d %H:%M:%S\"\n",
    "    \n",
    "    if file_path.endswith((\".png\", \".jpg\", \".jpeg\", \".PNG\", \".JPG\", \".gif\")):\n",
    "        with Image.open(file_path) as img:\n",
    "            if 'exif' in img.info:\n",
    "                exif_data = img._getexif()\n",
    "                if exif_data and 36867 in exif_data:  # 36867 is the tag for DateTimeOriginal\n",
    "                    return datetime.strptime(exif_data[36867], '%Y:%m:%d %H:%M:%S')\n",
    "\n",
    "    return None"
   ]
  },
  {
   "cell_type": "code",
   "execution_count": null,
   "metadata": {},
   "outputs": [],
   "source": [
    "# loop over all exported images\n",
    "for i, img in enumerate(img_list):\n",
    "    creation_date = get_creation_date(img)\n",
    "    if creation_date and creation_date > datetime(1970, 1, 1):\n",
    "        print(i, img)\n",
    "        \n",
    "        # Create new directory name based on year-month\n",
    "        year_folder = os.path.join(directory, str(creation_date.year))\n",
    "        month_folder = os.path.join(year_folder, f\"{creation_date.year}-{creation_date.month:02d}\")\n",
    "\n",
    "        # Create year and year-month directories if they don't exist\n",
    "        os.makedirs(month_folder, exist_ok=True)\n",
    "            \n",
    "        # Create new filename with year, month, day, hour, minute, and second\n",
    "        file = img.split('/')[-1] \n",
    "        file, extension = os.path.splitext(file)\n",
    "        base_filename = creation_date.strftime('%Y%m%d-%H%M%S')\n",
    "        new_filename = base_filename + extension\n",
    "        new_file_path = os.path.join(month_folder, new_filename)\n",
    "           \n",
    "        # Check if file exists, and if so, append a digit starting at 1\n",
    "        if os.path.exists(new_file_path):\n",
    "            # pick new name\n",
    "            new_filename = get_next_available_filename(new_file_path)\n",
    "            new_file_path = os.path.join(month_folder, new_filename)\n",
    "            \n",
    "        print(f\"creation_date: {creation_date}\")\n",
    "        print(f\"img_path_original: {img}\")\n",
    "        print(f\"new_file_path: {new_file_path}\")\n",
    "        \n",
    "        \n",
    "        # Move the file to the new location\n",
    "        shutil.move(img, new_file_path)\n"
   ]
  },
  {
   "cell_type": "code",
   "execution_count": null,
   "metadata": {},
   "outputs": [],
   "source": [
    "# make a new list without metadata\n",
    "img_list = get_files_with_extensions(directory, img_extensions)"
   ]
  },
  {
   "cell_type": "code",
   "execution_count": null,
   "metadata": {},
   "outputs": [],
   "source": [
    "len(img_list)"
   ]
  },
  {
   "cell_type": "code",
   "execution_count": null,
   "metadata": {},
   "outputs": [],
   "source": [
    "os.makedirs(os.path.join(directory, \"unsorted\"), exist_ok=True)"
   ]
  },
  {
   "cell_type": "code",
   "execution_count": null,
   "metadata": {},
   "outputs": [],
   "source": [
    "# move these into unsorted\n",
    "for i, img in enumerate(img_list):\n",
    "    \n",
    "    # Create new filename with year, month, day, hour, minute, and second\n",
    "    file = img.split('/')[-1] \n",
    "    file, extension = os.path.splitext(file)\n",
    "    base_filename = 'nodate'\n",
    "    new_filename = base_filename + extension\n",
    "    new_file_path = os.path.join(os.path.join(directory, \"unsorted\"), new_filename)\n",
    "\n",
    "    # Check if file exists, and if so, append a digit starting at 1\n",
    "    if os.path.exists(new_file_path):\n",
    "        # pick new name\n",
    "        new_filename = get_next_available_filename(new_file_path)\n",
    "        new_file_path = os.path.join(os.path.join(directory, \"unsorted\"), new_filename)\n",
    "    \n",
    "    print(f\"img_path_original: {img}\")\n",
    "    print(f\"new_file_path: {new_file_path}\")\n",
    "        \n",
    "    # Move the file to the new location\n",
    "    shutil.move(img, new_file_path)"
   ]
  },
  {
   "cell_type": "code",
   "execution_count": null,
   "metadata": {
    "scrolled": true
   },
   "outputs": [],
   "source": [
    "vid_with_meta = {}\n",
    "# loop over all exported videos\n",
    "for i, v in enumerate(mov_list):\n",
    "    # read the mov metadata\n",
    "    metadata = subprocess.getoutput(\"ffmpeg -i %s\"  % (v))\n",
    "    \n",
    "    # get the date from metadata\n",
    "    if metadata.find('com.apple.quicktime.creationdate:') != -1:\n",
    "        date_str = metadata[metadata.find('com.apple.quicktime.creationdate:'):].split(\"\\n\")[0].split(\": \")[1]\n",
    "        # Parse the string into a datetime object\n",
    "        print(f\"{i}: {v}\")\n",
    "        dt = datetime.strptime(date_str, '%Y-%m-%dT%H:%M:%S%z')\n",
    "        print(f\"date: {dt}\")\n",
    "        \n",
    "        vid_with_meta[i] = { 'vid_path' : v, 'dt' : dt}\n"
   ]
  },
  {
   "cell_type": "code",
   "execution_count": null,
   "metadata": {},
   "outputs": [],
   "source": [
    "len(vid_with_meta)"
   ]
  },
  {
   "cell_type": "code",
   "execution_count": null,
   "metadata": {},
   "outputs": [],
   "source": [
    "for key, val in vid_with_meta.items():\n",
    "#     print(key, val)\n",
    "    # get date\n",
    "    dt = val['dt']\n",
    "    \n",
    "    # Create new directory name based on year-month\n",
    "    year_folder = os.path.join(directory, str(dt.year))\n",
    "    month_folder = os.path.join(year_folder, f\"{dt.year}-{dt.month:02d}\")\n",
    "\n",
    "    # Create year and year-month directories if they don't exist\n",
    "    os.makedirs(month_folder, exist_ok=True)\n",
    "    \n",
    "    vid_path_original = val['vid_path']\n",
    "    \n",
    "    file = vid_path_original.split('/')[-1] \n",
    "    file, extension = os.path.splitext(file)\n",
    "    yearmonth = file.split('-')[0]\n",
    "    year = yearmonth[:4]\n",
    "    month = yearmonth[4:6]\n",
    "    year_dt = dt.year\n",
    "    month_dt = dt.month\n",
    "    \n",
    "        \n",
    "    # Create new filename with year, month, day, hour, minute, and second\n",
    "    base_filename = dt.strftime('%Y%m%d-%H%M%S')\n",
    "    new_filename = base_filename + extension\n",
    "    new_file_path = os.path.join(month_folder, new_filename)\n",
    "\n",
    "    # Check if file exists, and if so, append a digit starting at 1\n",
    "    if os.path.exists(new_file_path):\n",
    "        # pick new name\n",
    "        new_filename = get_next_available_filename(new_file_path)\n",
    "        new_file_path = os.path.join(month_folder, new_filename)\n",
    "\n",
    "    print(f\"dt: {dt}\")\n",
    "    print(f\"vid_path_original: {vid_path_original}\")\n",
    "    print(f\"new_file_path: {new_file_path}\")\n",
    "\n",
    "\n",
    "    # Move the file to the new location\n",
    "    shutil.move(vid_path_original, new_file_path)\n"
   ]
  },
  {
   "cell_type": "code",
   "execution_count": null,
   "metadata": {},
   "outputs": [],
   "source": [
    "mov_list = get_files_with_extensions(directory, mov_extensions)"
   ]
  },
  {
   "cell_type": "code",
   "execution_count": null,
   "metadata": {},
   "outputs": [],
   "source": [
    "len(mov_list)"
   ]
  },
  {
   "cell_type": "code",
   "execution_count": null,
   "metadata": {
    "scrolled": true
   },
   "outputs": [],
   "source": [
    "for i, v in enumerate(mov_list):\n",
    "#     print(f\"{i}: {v}\")\n",
    "    # read the mov metadata\n",
    "    metadata = subprocess.getoutput(\"ffmpeg -i %s\"  % (v))\n",
    "    \n",
    "    # get the date from metadata\n",
    "    if metadata.find('creation_time') != -1:\n",
    "        date_str = metadata[metadata.find('creation_time'):].split(\"\\n\")[0].split(\": \")[1]\n",
    "        # Parse the string into a datetime object\n",
    "        date_str = date_str.replace('Z', '+0000')\n",
    "    \n",
    "        dt = datetime.strptime(date_str, '%Y-%m-%dT%H:%M:%S.%f%z')\n",
    "#         print(f\"date: {dt}\")\n",
    "        \n",
    "        # check if file name corresponds to the date\n",
    "#         img_path_original = val['img_path']\n",
    "\n",
    "        file = v.split('/')[-1] \n",
    "        file, extension = os.path.splitext(file)\n",
    "        yearmonth = file.split('-')[0]\n",
    "        year = yearmonth[:4]\n",
    "        month = yearmonth[4:6]\n",
    "        \n",
    "        year_dt = dt.year\n",
    "        month_dt = dt.month\n",
    "        \n",
    "        if str(year) != str(year_dt) or str(month) != f\"{month_dt:02d}\":\n",
    "            # if year or month do not match\n",
    "            print(i, v)\n",
    "            print('date DOES NOT match')\n",
    "        \n",
    "        # Create new directory name based on year-month\n",
    "        year_folder = os.path.join(directory, str(dt.year))\n",
    "        month_folder = os.path.join(year_folder, f\"{dt.year}-{dt.month:02d}\")\n",
    "\n",
    "        # Create year and year-month directories if they don't exist\n",
    "        os.makedirs(month_folder, exist_ok=True)\n",
    "    \n",
    "        # Create new filename with year, month, day, hour, minute, and second\n",
    "        base_filename = dt.strftime('%Y%m%d-%H%M%S')\n",
    "        new_filename = base_filename + extension\n",
    "        new_file_path = os.path.join(month_folder, new_filename)\n",
    "\n",
    "        # Check if file exists, and if so, append a digit starting at 1\n",
    "        if os.path.exists(new_file_path):\n",
    "            # pick new name\n",
    "            new_filename = get_next_available_filename(new_file_path)\n",
    "            new_file_path = os.path.join(month_folder, new_filename)\n",
    "\n",
    "        print(f\"dt: {dt}\")\n",
    "        print(f\"vid_path_original: {v}\")\n",
    "        print(f\"new_file_path: {new_file_path}\")\n",
    "\n",
    "\n",
    "        # Move the file to the new location\n",
    "        shutil.move(v, new_file_path)"
   ]
  },
  {
   "cell_type": "code",
   "execution_count": null,
   "metadata": {},
   "outputs": [],
   "source": [
    "mov_list = get_files_with_extensions(directory, mov_extensions)"
   ]
  },
  {
   "cell_type": "code",
   "execution_count": null,
   "metadata": {},
   "outputs": [],
   "source": [
    "file = mov_list[0]"
   ]
  },
  {
   "cell_type": "code",
   "execution_count": null,
   "metadata": {},
   "outputs": [],
   "source": [
    "metadata = subprocess.getoutput(\"ffmpeg -i %s\"  % (file))"
   ]
  },
  {
   "cell_type": "code",
   "execution_count": null,
   "metadata": {},
   "outputs": [],
   "source": [
    "metadata"
   ]
  },
  {
   "cell_type": "code",
   "execution_count": null,
   "metadata": {},
   "outputs": [],
   "source": [
    "from hachoir.parser import createParser\n",
    "from hachoir.metadata import extractMetadata"
   ]
  },
  {
   "cell_type": "code",
   "execution_count": null,
   "metadata": {},
   "outputs": [],
   "source": [
    "parser = createParser(file)\n",
    "metadata = extractMetadata(parser)\n",
    "creation_date = metadata.get('creation_date')"
   ]
  },
  {
   "cell_type": "code",
   "execution_count": null,
   "metadata": {},
   "outputs": [],
   "source": [
    "creation_date"
   ]
  },
  {
   "cell_type": "code",
   "execution_count": null,
   "metadata": {},
   "outputs": [],
   "source": [
    "mov_list"
   ]
  },
  {
   "cell_type": "code",
   "execution_count": null,
   "metadata": {},
   "outputs": [],
   "source": [
    "# move these into unsorted\n",
    "for i, v in enumerate(mov_list):\n",
    "    \n",
    "    # Create new filename with year, month, day, hour, minute, and second\n",
    "    file = v.split('/')[-1] \n",
    "    file, extension = os.path.splitext(file)\n",
    "    base_filename = 'nodate'\n",
    "    new_filename = base_filename + extension\n",
    "    new_file_path = os.path.join(os.path.join(directory, \"unsorted\"), new_filename)\n",
    "\n",
    "    # Check if file exists, and if so, append a digit starting at 1\n",
    "    if os.path.exists(new_file_path):\n",
    "        # pick new name\n",
    "        new_filename = get_next_available_filename(new_file_path)\n",
    "        new_file_path = os.path.join(os.path.join(directory, \"unsorted\"), new_filename)\n",
    "    \n",
    "    print(f\"v_path_original: {v}\")\n",
    "    print(f\"new_file_path: {new_file_path}\")\n",
    "        \n",
    "    # Move the file to the new location\n",
    "    shutil.move(v, new_file_path)"
   ]
  },
  {
   "cell_type": "code",
   "execution_count": null,
   "metadata": {},
   "outputs": [],
   "source": []
  }
 ],
 "metadata": {
  "kernelspec": {
   "display_name": "ocr",
   "language": "python",
   "name": "ocr"
  },
  "language_info": {
   "codemirror_mode": {
    "name": "ipython",
    "version": 3
   },
   "file_extension": ".py",
   "mimetype": "text/x-python",
   "name": "python",
   "nbconvert_exporter": "python",
   "pygments_lexer": "ipython3",
   "version": "3.9.2"
  }
 },
 "nbformat": 4,
 "nbformat_minor": 4
}
