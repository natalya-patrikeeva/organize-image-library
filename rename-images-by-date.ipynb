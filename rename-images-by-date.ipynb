{
 "cells": [
  {
   "cell_type": "code",
   "execution_count": null,
   "id": "405a6aab",
   "metadata": {},
   "outputs": [],
   "source": [
    "# read in a folder of images\n",
    "# rename images based on creation date"
   ]
  },
  {
   "cell_type": "code",
   "execution_count": 7,
   "id": "9bb5f9ea",
   "metadata": {},
   "outputs": [],
   "source": [
    "import glob, shutil\n",
    "from PIL import Image\n",
    "from PIL.ExifTags import TAGS\n",
    "from datetime import datetime\n",
    "import os\n",
    "from os import makedirs\n",
    "from os.path import exists\n",
    "import subprocess"
   ]
  },
  {
   "cell_type": "code",
   "execution_count": 26,
   "id": "c6b5373c",
   "metadata": {},
   "outputs": [],
   "source": [
    "img_path = '052021/'"
   ]
  },
  {
   "cell_type": "code",
   "execution_count": 27,
   "id": "631ba2cd",
   "metadata": {},
   "outputs": [],
   "source": [
    "img_list = glob.glob(img_path + '*.jpeg')\n",
    "mov_list = glob.glob(img_path + '*.mov')"
   ]
  },
  {
   "cell_type": "code",
   "execution_count": 28,
   "id": "1e008f0a",
   "metadata": {},
   "outputs": [
    {
     "data": {
      "text/plain": [
       "53"
      ]
     },
     "execution_count": 28,
     "metadata": {},
     "output_type": "execute_result"
    }
   ],
   "source": [
    "len(img_list)"
   ]
  },
  {
   "cell_type": "code",
   "execution_count": 29,
   "id": "7dacc3ee",
   "metadata": {},
   "outputs": [
    {
     "name": "stdout",
     "output_type": "stream",
     "text": [
      "2021:05:01 16:23:42\n",
      "2021:05:08 13:08:40\n",
      "2021:05:07 15:49:50\n",
      "2021:05:08 13:35:36\n",
      "2021:05:01 18:39:16\n",
      "2021:05:08 13:32:27\n",
      "2021:05:10 20:25:59\n",
      "2021:05:06 20:05:09\n",
      "2021:05:08 13:35:36\n",
      "2021:05:03 13:34:41\n",
      "2021:05:08 13:27:43\n",
      "2021:05:12 18:18:37\n",
      "2021:05:15 09:04:43\n",
      "2021:05:02 10:36:22\n",
      "2021:05:08 12:34:22\n",
      "2021:05:01 18:37:43\n",
      "2021:05:01 14:47:24\n",
      "2021:05:14 17:25:10\n",
      "2021:05:09 19:15:29\n",
      "2021:05:06 19:51:45\n",
      "2021:05:01 16:24:17\n",
      "2021:05:09 19:15:29\n",
      "2021:05:06 11:28:06\n",
      "2021:05:21 18:44:28\n",
      "2021:05:01 16:24:15\n",
      "2021:05:04 13:51:29\n",
      "2021:05:09 19:34:50\n",
      "2021:05:01 14:58:02\n",
      "2021:05:17 11:13:32\n",
      "2021:05:09 19:54:25\n",
      "2021:05:16 20:45:58\n",
      "2021:05:01 14:58:06\n",
      "2021:05:09 12:58:59\n",
      "2021:05:09 14:56:34\n",
      "2021:05:16 15:36:26\n",
      "2021:05:10 11:33:31\n",
      "2021:05:09 12:58:59\n",
      "2021:05:09 14:56:34\n",
      "2021:05:06 13:50:24\n",
      "2021:05:13 18:25:32\n",
      "2021:05:01 18:37:56\n",
      "2021:05:06 23:54:37\n",
      "2021:05:14 19:16:37\n",
      "2021:05:08 13:49:58\n",
      "2021:05:08 14:02:01\n",
      "2021:05:14 19:16:23\n",
      "2021:05:08 13:13:15\n",
      "2021:05:06 20:39:31\n",
      "2021:05:02 16:58:09\n",
      "2021:05:01 18:38:20\n",
      "2021:05:16 15:35:48\n",
      "2021:05:14 09:52:13\n",
      "2021:05:08 13:13:15\n"
     ]
    }
   ],
   "source": [
    "# loop over all exported images\n",
    "for img in img_list:\n",
    "#     print(img)\n",
    "    # read the image data using PIL\n",
    "    image = Image.open(img)\n",
    "    # extract EXIF data\n",
    "    exifdata = image.getexif()\n",
    "    \n",
    "    # iterating over all EXIF data fields\n",
    "    # iterating over all EXIF data fields\n",
    "    for tag_id in exifdata:\n",
    "\n",
    "        # get the tag name, instead of human unreadable tag id\n",
    "        tag = TAGS.get(tag_id, tag_id)\n",
    "        data = exifdata.get(tag_id)\n",
    "\n",
    "        # decode bytes \n",
    "        if isinstance(data, bytes):\n",
    "            data = data.decode()\n",
    "\n",
    "        # we only care about the date tag\n",
    "        if tag == 'DateTime':\n",
    "            date = data\n",
    "#             print(date)\n",
    "            year = date.split(' ')[0][:4]\n",
    "            month = date.split(' ')[0][5:7]\n",
    "            day = date.split(' ')[0][8:10]\n",
    "            hourminsec = date.split(' ')[1][:8]\n",
    "\n",
    "            # naming convention\n",
    "            # rename each image to be date format, 'month.day.year-hour:minute:second' (i.e. '04.01.21-18:32:30')\n",
    "            new_name = month + '.' + day + '.' + year[-2:] + '-' + hourminsec\n",
    "            \n",
    "            # check that destination does not exist already\n",
    "            if not exists(img_path + new_name + '.jpeg'):\n",
    "                # rename only if the path does not exist    \n",
    "                os.rename(img, img_path + new_name + '.jpeg')"
   ]
  },
  {
   "cell_type": "code",
   "execution_count": 30,
   "id": "1b18b21a",
   "metadata": {},
   "outputs": [],
   "source": [
    "# loop over all exported videos\n",
    "for v in mov_list:\n",
    "    # read the mov metadata\n",
    "    metadata = subprocess.getoutput(\"ffmpeg -i %s\"  % (v))\n",
    "    \n",
    "    # get the date from metadata\n",
    "    date = metadata[metadata.find('com.apple.quicktime.creationdate:'):].split(\"\\n\")[0].split(\": \")[1]\n",
    "    \n",
    "    # get the year and month of the video\n",
    "    year = date[:4]\n",
    "    month = date[5:7]\n",
    "    day = date[8:10]\n",
    "    hourminsec = date[11:19]\n",
    "    new_name = month + '.' + day + '.' + year[-2:] + '-' + hourminsec\n",
    "\n",
    "    # check that destination does not exist already\n",
    "    if not exists(img_path + new_name + '.mov'):\n",
    "        # rename only if the path does not exist    \n",
    "        os.rename(v, img_path + new_name + '.mov')"
   ]
  },
  {
   "cell_type": "code",
   "execution_count": null,
   "id": "0e9a0711",
   "metadata": {},
   "outputs": [],
   "source": []
  }
 ],
 "metadata": {
  "kernelspec": {
   "display_name": "Python 3",
   "language": "python",
   "name": "python3"
  },
  "language_info": {
   "codemirror_mode": {
    "name": "ipython",
    "version": 3
   },
   "file_extension": ".py",
   "mimetype": "text/x-python",
   "name": "python",
   "nbconvert_exporter": "python",
   "pygments_lexer": "ipython3",
   "version": "3.8.8"
  }
 },
 "nbformat": 4,
 "nbformat_minor": 5
}
